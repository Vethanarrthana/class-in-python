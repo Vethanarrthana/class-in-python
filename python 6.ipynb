{
 "cells": [
  {
   "cell_type": "code",
   "execution_count": 1,
   "id": "0efcb504",
   "metadata": {},
   "outputs": [],
   "source": [
    "class EligibilityForMarriage():\n",
    "    def eligible():\n",
    "        gender=(input(\"Enter your gender:\"))\n",
    "        age=int(input(\"Enter your age:\"))\n",
    "        print(\"your gender:\",gender)\n",
    "        print(\"your age:\",age)\n",
    "        if(age>=21 and gender=='male'):\n",
    "            print(\"Elligible\")\n",
    "            ans=\"Elligible\"\n",
    "        elif(age>=18 and gender=='female'):\n",
    "            print(\"Elligible\")\n",
    "            ans=\"Elligible\"\n",
    "        else:\n",
    "            print(\"Not Elligible\")\n",
    "            ans=\"Not Elligible\"\n",
    "        "
   ]
  },
  {
   "cell_type": "code",
   "execution_count": 2,
   "id": "98f740cc",
   "metadata": {},
   "outputs": [
    {
     "name": "stdout",
     "output_type": "stream",
     "text": [
      "Enter your gender:female\n",
      "Enter your age:25\n",
      "your gender: female\n",
      "your age: 25\n",
      "Elligible\n"
     ]
    }
   ],
   "source": [
    "EligibilityForMarriage.eligible()"
   ]
  },
  {
   "cell_type": "code",
   "execution_count": 13,
   "id": "099975ec",
   "metadata": {},
   "outputs": [],
   "source": [
    "class oddEven():\n",
    "    def oddEven():\n",
    "        num=int(input(\"Enter the number:\"))\n",
    "        if(num%2==0):\n",
    "            print(\"{} is even number\".format(num))\n",
    "            ans=\"even\"\n",
    "        else:\n",
    "            print(\"{} is odd number\".format(num))\n",
    "            ans=\"odd\"\n",
    "       "
   ]
  },
  {
   "cell_type": "code",
   "execution_count": 14,
   "id": "27fe9e2c",
   "metadata": {},
   "outputs": [
    {
     "name": "stdout",
     "output_type": "stream",
     "text": [
      "Enter the number:89\n",
      "89 is odd number\n"
     ]
    }
   ],
   "source": [
    "oddEven.oddEven()"
   ]
  },
  {
   "cell_type": "code",
   "execution_count": 11,
   "id": "7c4dc9c1",
   "metadata": {},
   "outputs": [],
   "source": [
    "class subFieldsInAI():\n",
    "    def subFields():\n",
    "        list=['machine learning','neural networks','vision','robotics','speech processing','natural language processing']\n",
    "        print(\"sub-fields in AI are:\")\n",
    "        for i in list:\n",
    "            print(i)\n",
    "        "
   ]
  },
  {
   "cell_type": "code",
   "execution_count": 12,
   "id": "ce355340",
   "metadata": {},
   "outputs": [
    {
     "name": "stdout",
     "output_type": "stream",
     "text": [
      "sub-fields in AI are:\n",
      "machine learning\n",
      "neural networks\n",
      "vision\n",
      "robotics\n",
      "speech processing\n",
      "natural language processing\n"
     ]
    }
   ],
   "source": [
    "subFieldsInAI.subFields()"
   ]
  },
  {
   "cell_type": "code",
   "execution_count": 3,
   "id": "db7ce795",
   "metadata": {},
   "outputs": [],
   "source": [
    "class findPercentage():\n",
    "    def percentage():\n",
    "        sub1=int(input(\"Enter the marks of sub1:\"))\n",
    "        sub2=int(input(\"Enter the marks of sub2:\"))\n",
    "        sub3=int(input(\"Enter the marks of sub3:\"))\n",
    "        sub4=int(input(\"Enter the marks of sub4:\"))\n",
    "        sub5=int(input(\"Enter the marks of sub5:\"))\n",
    "        total=sub1+sub2+sub3+sub4+sub5\n",
    "        print(\"TOTAL:\",total)\n",
    "        ans=total\n",
    "        percentage=total/5\n",
    "        print(\"PERCENTAGE:\",percentage)\n",
    "        ans=percentage\n",
    "    "
   ]
  },
  {
   "cell_type": "code",
   "execution_count": 5,
   "id": "76fad4cb",
   "metadata": {},
   "outputs": [
    {
     "name": "stdout",
     "output_type": "stream",
     "text": [
      "Enter the marks of sub1:99\n",
      "Enter the marks of sub2:96\n",
      "Enter the marks of sub3:95\n",
      "Enter the marks of sub4:95\n",
      "Enter the marks of sub5:90\n",
      "TOTAL: 475\n",
      "PERCENTAGE: 95.0\n"
     ]
    }
   ],
   "source": [
    "findPercentage.percentage()"
   ]
  },
  {
   "cell_type": "code",
   "execution_count": 7,
   "id": "6efb2147",
   "metadata": {},
   "outputs": [],
   "source": [
    "class triangle():\n",
    "    def triangle():\n",
    "        height=int(input(\"Enter height:\"))\n",
    "        breadth=int(input(\"Enter breadth:\"))\n",
    "        print(\"Height:\",height)\n",
    "        ans=height\n",
    "        print(\"Breadth:\",breadth)\n",
    "        ans=breadth\n",
    "        area=(height*breadth)/2\n",
    "        print(\"Area formula:(height*breadth)/2\")\n",
    "        print(\"Area of triangle:\",area)\n",
    "        ans=area\n",
    "        height1=int(input(\"Enter height1:\"))\n",
    "        height2=int(input(\"Enter height2:\"))\n",
    "        breadth=int(input(\"Enter breadth:\"))\n",
    "        print(\"Height1:\",height1)\n",
    "        ans=height1\n",
    "        print(\"Height2:\",height2)\n",
    "        ans=height2\n",
    "        print(\"Breadth:\",breadth)\n",
    "        ans=breadth\n",
    "        perimeter=height1+height2+breadth\n",
    "        print(\"Perimeter formula:height1+height2+breadth\")\n",
    "        print(\"perimeter of triangle:\",perimeter)\n",
    "        ans=perimeter\n",
    "    "
   ]
  },
  {
   "cell_type": "code",
   "execution_count": 8,
   "id": "e5feb635",
   "metadata": {},
   "outputs": [
    {
     "name": "stdout",
     "output_type": "stream",
     "text": [
      "Enter height:34\n",
      "Enter breadth:32\n",
      "Height: 34\n",
      "Breadth: 32\n",
      "Area formula:(height*breadth)/2\n",
      "Area of triangle: 544.0\n",
      "Enter height1:7\n",
      "Enter height2:8\n",
      "Enter breadth:5\n",
      "Height1: 7\n",
      "Height2: 8\n",
      "Breadth: 5\n",
      "Perimeter formula:height1+height2+breadth\n",
      "perimeter of triangle: 20\n"
     ]
    }
   ],
   "source": [
    "triangle.triangle()"
   ]
  },
  {
   "cell_type": "code",
   "execution_count": null,
   "id": "f989ae23",
   "metadata": {},
   "outputs": [],
   "source": []
  }
 ],
 "metadata": {
  "kernelspec": {
   "display_name": "Python 3 (ipykernel)",
   "language": "python",
   "name": "python3"
  },
  "language_info": {
   "codemirror_mode": {
    "name": "ipython",
    "version": 3
   },
   "file_extension": ".py",
   "mimetype": "text/x-python",
   "name": "python",
   "nbconvert_exporter": "python",
   "pygments_lexer": "ipython3",
   "version": "3.10.9"
  }
 },
 "nbformat": 4,
 "nbformat_minor": 5
}
